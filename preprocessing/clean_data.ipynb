{
 "cells": [
  {
   "cell_type": "markdown",
   "id": "80f60266",
   "metadata": {},
   "source": [
    "## Preprocessing"
   ]
  },
  {
   "cell_type": "code",
   "execution_count": 1,
   "id": "34737b62",
   "metadata": {},
   "outputs": [],
   "source": [
    "import pandas as pd"
   ]
  },
  {
   "cell_type": "code",
   "execution_count": 3,
   "id": "5dcc1bee",
   "metadata": {},
   "outputs": [
    {
     "name": "stdout",
     "output_type": "stream",
     "text": [
      "           Time  Type   OrderID  Size    Price  Direction\n",
      "0  34200.015105     4  15818974     4  5794000          1\n",
      "1  34200.059902     4  15818974   300  5794000          1\n",
      "2  34200.113247     5         0     1  5795100          1\n",
      "3  34200.113247     5         0     1  5795000          1\n",
      "4  34200.113247     5         0     1  5794900          1\n"
     ]
    }
   ],
   "source": [
    "file_path = '../data/raw/LOBSTER_SampleFile_GOOG_2012-06-21_10/GOOG_2012-06-21_34200000_57600000_message_10.csv'\n",
    "cols = ['Time', 'Type', 'OrderID', 'Size', 'Price', 'Direction']\n",
    "df = pd.read_csv(file_path, header=None, names=cols)\n",
    "print(df.head())"
   ]
  },
  {
   "cell_type": "code",
   "execution_count": 5,
   "id": "e6a52661",
   "metadata": {},
   "outputs": [],
   "source": [
    "# Filter out message types without support yet (type 5 and 7)\n",
    "df_clean = df[(df['Type'] != 2) & (df['Type'] != 5) & (df['Type'] != 7)]\n",
    "\n",
    "# Reset index after filtering\n",
    "df_clean = df_clean.reset_index(drop=True)"
   ]
  },
  {
   "cell_type": "code",
   "execution_count": 6,
   "id": "9f253f98",
   "metadata": {},
   "outputs": [
    {
     "name": "stdout",
     "output_type": "stream",
     "text": [
      "Cleaned data saved to ../data/cleaned/GOOG_2012-06-21_message_cleaned.csv\n"
     ]
    }
   ],
   "source": [
    "cleaned_file_path = '../data/cleaned/GOOG_2012-06-21_message_cleaned.csv'\n",
    "df_clean.to_csv(cleaned_file_path, index=False)\n",
    "\n",
    "print(f\"Cleaned data saved to {cleaned_file_path}\")"
   ]
  }
 ],
 "metadata": {
  "kernelspec": {
   "display_name": "ibm",
   "language": "python",
   "name": "python3"
  },
  "language_info": {
   "codemirror_mode": {
    "name": "ipython",
    "version": 3
   },
   "file_extension": ".py",
   "mimetype": "text/x-python",
   "name": "python",
   "nbconvert_exporter": "python",
   "pygments_lexer": "ipython3",
   "version": "3.8.20"
  }
 },
 "nbformat": 4,
 "nbformat_minor": 5
}
